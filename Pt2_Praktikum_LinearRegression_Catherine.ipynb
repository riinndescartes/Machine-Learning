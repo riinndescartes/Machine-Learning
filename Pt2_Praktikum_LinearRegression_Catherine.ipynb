{
  "nbformat": 4,
  "nbformat_minor": 0,
  "metadata": {
    "colab": {
      "provenance": [],
      "include_colab_link": true
    },
    "kernelspec": {
      "name": "python3",
      "display_name": "Python 3"
    },
    "language_info": {
      "name": "python"
    }
  },
  "cells": [
    {
      "cell_type": "markdown",
      "metadata": {
        "id": "view-in-github",
        "colab_type": "text"
      },
      "source": [
        "<a href=\"https://colab.research.google.com/github/riinndescartes/Machine-Learning/blob/main/Pt2_Praktikum_LinearRegression_Catherine.ipynb\" target=\"_parent\"><img src=\"https://colab.research.google.com/assets/colab-badge.svg\" alt=\"Open In Colab\"/></a>"
      ]
    },
    {
      "cell_type": "markdown",
      "source": [
        "#**Pertanyaan**"
      ],
      "metadata": {
        "id": "XMG3xI0ogGHg"
      }
    },
    {
      "cell_type": "markdown",
      "source": [
        "###**Soal 1** - Memperbaiki Error Tahap `Data Preprocessing`"
      ],
      "metadata": {
        "id": "IRZaAS3ll8fk"
      }
    },
    {
      "cell_type": "markdown",
      "source": [
        "####**1.a. Kenapa warning di atas muncul?**\n"
      ],
      "metadata": {
        "id": "Cy0X6lRyJN_7"
      }
    },
    {
      "cell_type": "markdown",
      "source": [
        "Peringatan `FutureWarning` tersebut muncul karena program mencoba menetapkan nilai bertipe `float64` (hasil dari scaler.fit_transform()) ke kolom yang kemungkinan awalnya memiliki tipe data `int64`. Pandas tidak mengizinkan secara langsung mengubah tipe data dari `int64` ke `float64` tanpa konversi eksplisit, karena ini bisa menyebabkan masalah di masa mendatang.\n",
        "\n",
        "Ini terjadi karena kolom-kolom yang ditransformasikan (living_in_m2 dan real_bathrooms) mungkin memiliki tipe data `int64` dari awalnya, sementara hasil dari StandardScaler adalah `float64`. Oleh karena itu, Pandas memperingatkan Anda bahwa operasi ini mungkin tidak aman, dan di versi mendatang, itu bisa menyebabkan kesalahan (error).\n",
        "\n",
        "Solusi:\n",
        "Kita perlu mengonversi kolom-kolom yang akan dinormalisasi ke tipe data `float64` sebelum melakukan transformasi."
      ],
      "metadata": {
        "id": "KbWt8zZMKkM1"
      }
    },
    {
      "cell_type": "markdown",
      "source": [
        "####**1.b. Buatkan code perbaikan!**"
      ],
      "metadata": {
        "id": "biovNMC-Ktpg"
      }
    },
    {
      "cell_type": "markdown",
      "source": [
        "Berikut ini saya sertakan code perbaikannya, yaitu dengan menambahkan `pd.options.mode.copy_on_write = True `dan mengonversi tipe data fitur `living_in_m2` sebelum dilakukan transformasi standar scaler (standarisasi data) agar tipe datanya seragam dengan fitur lainnya.\n",
        "\n",
        "Penambahan `pd.options.mode.copy_on_write = True ` pada program didasarkan pada saran evaluasi dari [dokumentasi berikut](https://pandas.pydata.org/pandas-docs/stable/user_guide/indexing.html#returning-a-view-versus-a-copy), yang membahas mengenai \"Masalah urutan evaluasi\". Copy-on-Write akan menjadi default baru di pandas 3.0. Ini berarti daripada pengindeksan berantai akan tidak pernah bekerja. Akibatnya, tidak akan diperlukan lagi. Lihat bagian ini untuk konteks lebih lanjut. Dokumentasi merekomendasikan untuk mengaktifkan `Copy-on-Write` untuk memanfaatkan peningkatan dengan `SettingWithCopyWarning`.\n",
        "\n",
        "` pd.options.mode.copy_on_write = True `\n",
        "\n",
        "Saat kita menggunakan pengindeksan berantai, urutan dan jenis operasi pengindeksan menentukan sebagian apakah hasilnya adalah irisan ke dalam objek asli, atau salinan irisan. Pandas punya karena menetapkan salinan slice seringkali tidak disengaja, tetapi kesalahan yang disebabkan oleh pengindeksan berantai mengembalikan salinan di mana irisan diharapkan `SettingWithCopyWarning`.\n",
        "\n",
        "Jika kita ingin panda kurang lebih mempercayai penugasan ke ekspresi pengindeksan berantai, kita dapat mengatur opsi ke salah satu nilai berikut: `mode.chained_assignment`.\n",
        "\n",
        "- `warn`, default, berarti a dicetak.  `SettingWithCopyWarning`\n",
        "\n",
        "- `raise` berarti panda akan membesarkan yang harus kita hadapi. `SettingWithCopyError`\n",
        "\n",
        "- `None` akan menekan peringatan sepenuhnya.\n",
        "\n",
        "Berikut adalah code perbaikannya:\n",
        "\n",
        "  \n",
        "    import numpy as np\n",
        "\n",
        "    from sklearn.preprocessing import StandardScaler\n",
        "\n",
        "    pd.options.mode.copy_on_write = True\n",
        "\n",
        "    def preprocess_data(df):\n",
        "    #konversi tipe data boolean menjadi integer\n",
        "    df['has_basement'] = df['has_basement'].astype(int)\n",
        "    df['renovated'] = df['renovated'].astype(int)\n",
        "    df['nice_view'] = df['nice_view'].astype(int)\n",
        "    df['perfect_condition'] = df['perfect_condition'].astype(int)\n",
        "    df['has_lavatory'] = df['has_lavatory'].astype(int)\n",
        "    df['single_floor'] = df['single_floor'].astype(int)\n",
        "\n",
        "\n",
        "    features = ['bedrooms', 'grade', 'has_basement', 'living_in_m2',\n",
        "                'renovated', 'nice_view', 'perfect_condition', 'real_bathrooms',\n",
        "                'has_lavatory', 'single_floor', 'month', 'quartile_zone']\n",
        "\n",
        "    X = df[features]\n",
        "    y = df['price']\n",
        "\n",
        "    # konversi kolom yang relevan dengan int64 sebelum penyekalaan\n",
        "    X.loc[:, 'living_in_m2'] = X['living_in_m2'].astype(np.int64)\n",
        "    X.loc[:, 'real_bathrooms'] = X['real_bathrooms'].astype(np.int64)\n",
        "\n",
        "\n",
        "    # normalisasi fitur numerik\n",
        "    scaler = StandardScaler()\n",
        "    X[['living_in_m2','real_bathrooms']] = scaler.fit_transform(X[['living_in_m2','real_bathrooms']])\n",
        "\n",
        "    return X, y\n",
        "    \n",
        "    # olah training dan test data\n",
        "    X_train, y_train = preprocess_data(df_train)\n",
        "    X_test, y_test = preprocess_data(df_test)\n"
      ],
      "metadata": {
        "id": "V66tPUmFK56n"
      }
    },
    {
      "cell_type": "markdown",
      "source": [
        "###**Soal 2** - MSE\n"
      ],
      "metadata": {
        "id": "w-Hq_376n0DM"
      }
    },
    {
      "cell_type": "markdown",
      "source": [
        "Jika hanya dilihat dari grafik hasilnya memang cukup baik tapi saat melihat nilai MSE hasilnya sangat besar. Kenapa MSE besar tapi plot terlihat baik?"
      ],
      "metadata": {
        "id": "33seLYwOlref"
      }
    },
    {
      "cell_type": "markdown",
      "source": [
        "Grafik tersebut memberikan gambaran umum dari seberapa baik model bekerja secara visual, tetapi *MSE* memberikan gambaran lebih mendetail tentang **rata-rata kuadrat kesalahan**, yang sangat **sensitif** terhadap outlier dan nilai ekstrem. Meskipun plot terlihat bagus, beberapa kesalahan besar atau skala besar dari target dapat menyebabkan MSE yang besar.\n",
        "\n",
        "Fenomena yang terjadi saat plot **Actual vs Predicted Prices** terlihat baik, namun **Mean Squared Error (MSE)** menunjukkan nilai yang besar, dapat disebabkan oleh beberapa faktor berikut:\n",
        "\n",
        "1. **Skala Data yang Luas** (Outliers atau Variasi Besar)\n",
        "   - Jika data memiliki **rentang nilai yang sangat luas** atau terdapat **outlier** (nilai ekstrim yang sangat besar atau sangat kecil dibandingkan dengan data lain), maka perbedaan kecil antara nilai aktual dan prediksi pada titik tertentu dapat menyebabkan **MSE menjadi besar**.\n",
        "   - **MSE** dihitung sebagai rata-rata dari kuadrat selisih antara prediksi dan nilai aktual, sehingga **kesalahan besar pada beberapa titik** (outlier) dapat memperbesar MSE secara signifikan, meskipun pada sebagian besar data, prediksi tampak baik (seperti yang terlihat di plot).\n",
        "   \n",
        "  **Contoh**:\n",
        "   - Jika sebagian besar titik prediksi mendekati garis diagonal, tetapi beberapa titik yang memiliki harga sangat tinggi atau rendah (outliers) memiliki prediksi yang jauh dari harga aktual, maka MSE akan menjadi besar.\n",
        "\n",
        "2. **Skala Besar pada Nilai Target (Harga)**  \n",
        "   - Jika variabel target (`price`) memiliki skala yang besar (misalnya harga properti dalam ratusan ribu hingga jutaan), meskipun prediksi dan nilai aktual cukup dekat secara relatif, **selisih absolut yang kecil pada nilai besar** tetap menghasilkan MSE yang tinggi.\n",
        "   - Misalnya, perbedaan 100.000 pada sebuah properti bernilai 1 juta mungkin terlihat kecil secara visual, namun kuadrat dari kesalahan sebesar itu akan memberikan kontribusi besar terhadap MSE.\n",
        "\n",
        "  **Contoh**:\n",
        "   - Jika prediksi harga adalah 1.000.000 dan nilai aktual adalah 1.050.000, selisihnya 50.000. Saat dikuadratkan, ini menghasilkan 2.5 miliar. Nilai ini cukup besar meskipun secara visual mungkin tidak terlalu terlihat jauh.\n",
        "\n",
        "3. **Distribusi Kesalahan yang Tidak Merata**\n",
        "   - Kesalahan (error) antara nilai aktual dan prediksi mungkin tidak terdistribusi secara merata. Plot *Actual vs Predicted Prices* memberikan gambaran keseluruhan, tetapi **kesalahan besar bisa terkonsentrasi di sebagian kecil data** (misalnya pada rentang harga tertentu). Hal ini dapat menyebabkan plot terlihat \"baik\" secara umum, tetapi MSE terpengaruh oleh kesalahan besar tersebut.\n",
        "   \n",
        "  **Contoh**:\n",
        "   - Sebagian besar prediksi mungkin tepat untuk harga-harga menengah, tetapi terdapat kesalahan besar pada prediksi harga properti yang lebih tinggi atau lebih rendah.\n",
        "\n",
        "4. **Pengaruh Kuadrat pada MSE**\n",
        "   - MSE menghitung kesalahan dalam bentuk kuadrat, sehingga **kesalahan yang lebih besar memiliki dampak yang jauh lebih signifikan** pada MSE dibandingkan kesalahan kecil. Jika terdapat beberapa prediksi yang sangat meleset, kesalahan besar ini akan dikuadratkan, menyebabkan peningkatan besar dalam nilai MSE meskipun sebagian besar prediksi mendekati nilai aktual.\n",
        "\n",
        "  **Contoh**:\n",
        "   - Jika ada beberapa prediksi yang jauh dari nilai aktual (misalnya, meleset 100.000 atau lebih), saat dikuadratkan, kesalahan tersebut akan menghasilkan angka yang sangat besar (10 miliar atau lebih), yang secara dramatis meningkatkan MSE."
      ],
      "metadata": {
        "id": "WBs8BsYTlmXg"
      }
    },
    {
      "cell_type": "markdown",
      "source": [
        "###**Soal 3** - Perbaikan Model\n",
        "\n",
        "*) Pengerjaan terlampir pada baris kode model kedua."
      ],
      "metadata": {
        "id": "-gzyn1qNpg55"
      }
    },
    {
      "cell_type": "markdown",
      "source": [
        "💡 Untuk memperbaiki model di atas lakukan:\n",
        "1. Pemilihan Fitur: Gunakan teknik pemilihan fitur untuk mengidentifikasi fitur yang paling relevan dan mengurangi kompleksitas model.\n",
        "\n",
        "2. Regularisasi: Pertimbangkan untuk menambahkan regularisasi (seperti Lasso atau Ridge) untuk mengurangi risiko overfitting."
      ],
      "metadata": {
        "id": "GNamSjBHLoJo"
      }
    },
    {
      "cell_type": "markdown",
      "source": [
        "- Saya akan menggunakan Statistik Deskriptif, Box-Plot, dan Skewness Curve untuk melihat keadaan dataset training apakah ada outlier, rentang nilai yang terlalu jauh dan sebagainya di tahap **Data Preprocessing**\n",
        "\n",
        "- Jika outlier ditemukan maka saya akan menyikapi outlier tersebut dari sudut pandang Statistika Robust untuk meningkatkan akurasi model dengan menggunakan metode IQR di tahap **Data Preprocessing**\n",
        "\n",
        "- Kemudian saya menambahkan baris kode metode Standarisasi dataset training yang telah diperbaiki ( **Standar Scaler** ) di tahap **Data Preprocessing**.\n",
        "\n",
        "- Pada bagian akhir perbaikan model saya akan mengevaluasi kinerja model menggunakan R2 Score, Mean Square Error dan Mean Absolute Error di tahap **Evaluating the Model**.\n"
      ],
      "metadata": {
        "id": "gVOcI8bWvdy4"
      }
    },
    {
      "cell_type": "markdown",
      "source": [
        "###**Soal 4** - Interpretasi Model Kedua Setelah Perbaikan\n",
        "\n",
        "*) Pengerjaan terlampir pada baris kode model kedua.\n"
      ],
      "metadata": {
        "id": "yzHCmUZmpwGo"
      }
    },
    {
      "cell_type": "markdown",
      "source": [
        "#**Model Kedua Setelah Perbaikan**"
      ],
      "metadata": {
        "id": "pnUxnHF8fzck"
      }
    },
    {
      "cell_type": "markdown",
      "source": [
        "##Import Libraries"
      ],
      "metadata": {
        "id": "0jzEQCGQj7_R"
      }
    },
    {
      "cell_type": "code",
      "source": [
        "import pandas as pd\n",
        "from sklearn.model_selection import train_test_split\n",
        "from sklearn.linear_model import LinearRegression\n",
        "from sklearn.metrics import mean_squared_error\n",
        "from sklearn.preprocessing import StandardScaler\n",
        "import matplotlib.pyplot as plt"
      ],
      "metadata": {
        "id": "GjuTs3ROj2c6"
      },
      "execution_count": null,
      "outputs": []
    },
    {
      "cell_type": "markdown",
      "source": [
        "## Load and Understand the Data"
      ],
      "metadata": {
        "id": "vMlq4zw7kC1E"
      }
    },
    {
      "cell_type": "code",
      "execution_count": null,
      "metadata": {
        "colab": {
          "base_uri": "https://localhost:8080/"
        },
        "id": "vm5SfHAnjaAh",
        "outputId": "e8aaa23b-4043-4cee-953b-c3361096e491"
      },
      "outputs": [
        {
          "output_type": "stream",
          "name": "stdout",
          "text": [
            "<class 'pandas.core.frame.DataFrame'>\n",
            "RangeIndex: 14105 entries, 0 to 14104\n",
            "Data columns (total 14 columns):\n",
            " #   Column             Non-Null Count  Dtype  \n",
            "---  ------             --------------  -----  \n",
            " 0   date               14105 non-null  object \n",
            " 1   price              14105 non-null  float64\n",
            " 2   bedrooms           14105 non-null  int64  \n",
            " 3   grade              14105 non-null  int64  \n",
            " 4   has_basement       14105 non-null  bool   \n",
            " 5   living_in_m2       14105 non-null  float64\n",
            " 6   renovated          14105 non-null  bool   \n",
            " 7   nice_view          14105 non-null  bool   \n",
            " 8   perfect_condition  14105 non-null  bool   \n",
            " 9   real_bathrooms     14105 non-null  int64  \n",
            " 10  has_lavatory       14105 non-null  bool   \n",
            " 11  single_floor       14105 non-null  bool   \n",
            " 12  month              14105 non-null  int64  \n",
            " 13  quartile_zone      14105 non-null  int64  \n",
            "dtypes: bool(6), float64(2), int64(5), object(1)\n",
            "memory usage: 964.3+ KB\n",
            "<class 'pandas.core.frame.DataFrame'>\n",
            "RangeIndex: 6948 entries, 0 to 6947\n",
            "Data columns (total 14 columns):\n",
            " #   Column             Non-Null Count  Dtype  \n",
            "---  ------             --------------  -----  \n",
            " 0   date               6948 non-null   object \n",
            " 1   price              6948 non-null   float64\n",
            " 2   bedrooms           6948 non-null   int64  \n",
            " 3   grade              6948 non-null   int64  \n",
            " 4   has_basement       6948 non-null   bool   \n",
            " 5   living_in_m2       6948 non-null   float64\n",
            " 6   renovated          6948 non-null   bool   \n",
            " 7   nice_view          6948 non-null   bool   \n",
            " 8   perfect_condition  6948 non-null   bool   \n",
            " 9   real_bathrooms     6948 non-null   int64  \n",
            " 10  has_lavatory       6948 non-null   bool   \n",
            " 11  single_floor       6948 non-null   bool   \n",
            " 12  month              6948 non-null   int64  \n",
            " 13  quartile_zone      6948 non-null   int64  \n",
            "dtypes: bool(6), float64(2), int64(5), object(1)\n",
            "memory usage: 475.1+ KB\n"
          ]
        },
        {
          "output_type": "execute_result",
          "data": {
            "text/plain": [
              "(         date      price  bedrooms  grade  has_basement  living_in_m2  \\\n",
              " 0  2014-06-20   237000.0         3      7         False     120.77390   \n",
              " 1  2015-04-20  1328000.0         5      9          True     310.29602   \n",
              " 2  2014-08-13   790500.0         4      9         False     311.22505   \n",
              " 3  2015-04-08   431000.0         4      9         False     282.42512   \n",
              " 4  2015-02-11   199000.0         3      7          True     162.58025   \n",
              " \n",
              "    renovated  nice_view  perfect_condition  real_bathrooms  has_lavatory  \\\n",
              " 0      False      False              False               1         False   \n",
              " 1       True       True              False               3         False   \n",
              " 2      False      False              False               2          True   \n",
              " 3      False      False              False               2          True   \n",
              " 4      False      False              False               2          True   \n",
              " \n",
              "    single_floor  month  quartile_zone  \n",
              " 0          True      6              2  \n",
              " 1          True      4              4  \n",
              " 2         False      8              4  \n",
              " 3         False      4              2  \n",
              " 4          True      2              2  ,\n",
              "          date     price  bedrooms  grade  has_basement  living_in_m2  \\\n",
              " 0  2015-03-19  235000.0         3      7         False     121.70293   \n",
              " 1  2014-09-05  998000.0         4     10         False     350.24431   \n",
              " 2  2014-12-19  430000.0         1      7         False      58.52889   \n",
              " 3  2014-05-14  300000.0         3      6         False     117.05778   \n",
              " 4  2014-08-14  243500.0         3      6         False     196.02533   \n",
              " \n",
              "    renovated  nice_view  perfect_condition  real_bathrooms  has_lavatory  \\\n",
              " 0      False      False              False               1         False   \n",
              " 1      False      False              False               3          True   \n",
              " 2      False      False              False               1         False   \n",
              " 3      False      False              False               1         False   \n",
              " 4      False      False              False               3         False   \n",
              " \n",
              "    single_floor  month  quartile_zone  \n",
              " 0          True      3              1  \n",
              " 1         False      9              1  \n",
              " 2          True     12              4  \n",
              " 3          True      5              3  \n",
              " 4          True      8              1  )"
            ]
          },
          "metadata": {},
          "execution_count": 4
        }
      ],
      "source": [
        "# Load the datasets\n",
        "df_train = pd.read_csv('df_train.csv')\n",
        "df_test = pd.read_csv('df_test.csv')\n",
        "\n",
        "df_train.info(), df_test.info()\n",
        "\n",
        "# Display the first few rows of each dataframe to understand their structure\n",
        "df_train.head(), df_test.head()\n"
      ]
    },
    {
      "cell_type": "markdown",
      "source": [
        "## Mengukur Statistik Deskriptif Dataset Training"
      ],
      "metadata": {
        "id": "72qCXGvK8714"
      }
    },
    {
      "cell_type": "markdown",
      "source": [
        "Perbaikan dimulai dari tahap `Data Preprocessing` dengan mengukur Statistik Deskriptif dataset training. Pada tahap ini kita memetakan dataset training berdasarkan ukuran dispersi dataset agar kita bisa mendapatkan informasi dari nilai Rata-Rata, Standar Deviation, Minimal, Maksimal, Modus, Median, IQR dan Maksimal-nya.\n",
        "\n",
        "💡Baris kode `df_train.describe()` ini sebenarnya ditempatkan setelah baris kode `Load and Understanding Data`."
      ],
      "metadata": {
        "id": "emAJmrf6rQFA"
      }
    },
    {
      "cell_type": "code",
      "source": [
        "df_train.describe()"
      ],
      "metadata": {
        "colab": {
          "base_uri": "https://localhost:8080/",
          "height": 300
        },
        "id": "6UI9mo0Sgoc6",
        "outputId": "43c1987a-0db6-445a-8eae-591dcd137da3"
      },
      "execution_count": null,
      "outputs": [
        {
          "output_type": "execute_result",
          "data": {
            "text/plain": [
              "              price      bedrooms         grade  living_in_m2  real_bathrooms  \\\n",
              "count  1.410500e+04  14105.000000  14105.000000  14105.000000    14105.000000   \n",
              "mean   4.998219e+05      3.339171      7.593407    187.540971        1.707409   \n",
              "std    2.457127e+05      0.880132      1.092411     76.273966        0.685596   \n",
              "min    7.800000e+04      0.000000      1.000000     26.941870        0.000000   \n",
              "25%    3.190000e+05      3.000000      7.000000    130.993230        1.000000   \n",
              "50%    4.435000e+05      3.000000      7.000000    174.657640        2.000000   \n",
              "75%    6.250000e+05      4.000000      8.000000    231.328470        2.000000   \n",
              "max    1.485000e+06      7.000000     12.000000    694.914440        6.000000   \n",
              "\n",
              "              month  quartile_zone  \n",
              "count  14105.000000   14105.000000  \n",
              "mean       6.603828       2.467990  \n",
              "std        3.116637       1.087813  \n",
              "min        1.000000       1.000000  \n",
              "25%        4.000000       2.000000  \n",
              "50%        6.000000       2.000000  \n",
              "75%        9.000000       3.000000  \n",
              "max       12.000000       4.000000  "
            ],
            "text/html": [
              "\n",
              "  <div id=\"df-6b4d4697-b5f3-44e3-a954-74f15e839143\" class=\"colab-df-container\">\n",
              "    <div>\n",
              "<style scoped>\n",
              "    .dataframe tbody tr th:only-of-type {\n",
              "        vertical-align: middle;\n",
              "    }\n",
              "\n",
              "    .dataframe tbody tr th {\n",
              "        vertical-align: top;\n",
              "    }\n",
              "\n",
              "    .dataframe thead th {\n",
              "        text-align: right;\n",
              "    }\n",
              "</style>\n",
              "<table border=\"1\" class=\"dataframe\">\n",
              "  <thead>\n",
              "    <tr style=\"text-align: right;\">\n",
              "      <th></th>\n",
              "      <th>price</th>\n",
              "      <th>bedrooms</th>\n",
              "      <th>grade</th>\n",
              "      <th>living_in_m2</th>\n",
              "      <th>real_bathrooms</th>\n",
              "      <th>month</th>\n",
              "      <th>quartile_zone</th>\n",
              "    </tr>\n",
              "  </thead>\n",
              "  <tbody>\n",
              "    <tr>\n",
              "      <th>count</th>\n",
              "      <td>1.410500e+04</td>\n",
              "      <td>14105.000000</td>\n",
              "      <td>14105.000000</td>\n",
              "      <td>14105.000000</td>\n",
              "      <td>14105.000000</td>\n",
              "      <td>14105.000000</td>\n",
              "      <td>14105.000000</td>\n",
              "    </tr>\n",
              "    <tr>\n",
              "      <th>mean</th>\n",
              "      <td>4.998219e+05</td>\n",
              "      <td>3.339171</td>\n",
              "      <td>7.593407</td>\n",
              "      <td>187.540971</td>\n",
              "      <td>1.707409</td>\n",
              "      <td>6.603828</td>\n",
              "      <td>2.467990</td>\n",
              "    </tr>\n",
              "    <tr>\n",
              "      <th>std</th>\n",
              "      <td>2.457127e+05</td>\n",
              "      <td>0.880132</td>\n",
              "      <td>1.092411</td>\n",
              "      <td>76.273966</td>\n",
              "      <td>0.685596</td>\n",
              "      <td>3.116637</td>\n",
              "      <td>1.087813</td>\n",
              "    </tr>\n",
              "    <tr>\n",
              "      <th>min</th>\n",
              "      <td>7.800000e+04</td>\n",
              "      <td>0.000000</td>\n",
              "      <td>1.000000</td>\n",
              "      <td>26.941870</td>\n",
              "      <td>0.000000</td>\n",
              "      <td>1.000000</td>\n",
              "      <td>1.000000</td>\n",
              "    </tr>\n",
              "    <tr>\n",
              "      <th>25%</th>\n",
              "      <td>3.190000e+05</td>\n",
              "      <td>3.000000</td>\n",
              "      <td>7.000000</td>\n",
              "      <td>130.993230</td>\n",
              "      <td>1.000000</td>\n",
              "      <td>4.000000</td>\n",
              "      <td>2.000000</td>\n",
              "    </tr>\n",
              "    <tr>\n",
              "      <th>50%</th>\n",
              "      <td>4.435000e+05</td>\n",
              "      <td>3.000000</td>\n",
              "      <td>7.000000</td>\n",
              "      <td>174.657640</td>\n",
              "      <td>2.000000</td>\n",
              "      <td>6.000000</td>\n",
              "      <td>2.000000</td>\n",
              "    </tr>\n",
              "    <tr>\n",
              "      <th>75%</th>\n",
              "      <td>6.250000e+05</td>\n",
              "      <td>4.000000</td>\n",
              "      <td>8.000000</td>\n",
              "      <td>231.328470</td>\n",
              "      <td>2.000000</td>\n",
              "      <td>9.000000</td>\n",
              "      <td>3.000000</td>\n",
              "    </tr>\n",
              "    <tr>\n",
              "      <th>max</th>\n",
              "      <td>1.485000e+06</td>\n",
              "      <td>7.000000</td>\n",
              "      <td>12.000000</td>\n",
              "      <td>694.914440</td>\n",
              "      <td>6.000000</td>\n",
              "      <td>12.000000</td>\n",
              "      <td>4.000000</td>\n",
              "    </tr>\n",
              "  </tbody>\n",
              "</table>\n",
              "</div>\n",
              "    <div class=\"colab-df-buttons\">\n",
              "\n",
              "  <div class=\"colab-df-container\">\n",
              "    <button class=\"colab-df-convert\" onclick=\"convertToInteractive('df-6b4d4697-b5f3-44e3-a954-74f15e839143')\"\n",
              "            title=\"Convert this dataframe to an interactive table.\"\n",
              "            style=\"display:none;\">\n",
              "\n",
              "  <svg xmlns=\"http://www.w3.org/2000/svg\" height=\"24px\" viewBox=\"0 -960 960 960\">\n",
              "    <path d=\"M120-120v-720h720v720H120Zm60-500h600v-160H180v160Zm220 220h160v-160H400v160Zm0 220h160v-160H400v160ZM180-400h160v-160H180v160Zm440 0h160v-160H620v160ZM180-180h160v-160H180v160Zm440 0h160v-160H620v160Z\"/>\n",
              "  </svg>\n",
              "    </button>\n",
              "\n",
              "  <style>\n",
              "    .colab-df-container {\n",
              "      display:flex;\n",
              "      gap: 12px;\n",
              "    }\n",
              "\n",
              "    .colab-df-convert {\n",
              "      background-color: #E8F0FE;\n",
              "      border: none;\n",
              "      border-radius: 50%;\n",
              "      cursor: pointer;\n",
              "      display: none;\n",
              "      fill: #1967D2;\n",
              "      height: 32px;\n",
              "      padding: 0 0 0 0;\n",
              "      width: 32px;\n",
              "    }\n",
              "\n",
              "    .colab-df-convert:hover {\n",
              "      background-color: #E2EBFA;\n",
              "      box-shadow: 0px 1px 2px rgba(60, 64, 67, 0.3), 0px 1px 3px 1px rgba(60, 64, 67, 0.15);\n",
              "      fill: #174EA6;\n",
              "    }\n",
              "\n",
              "    .colab-df-buttons div {\n",
              "      margin-bottom: 4px;\n",
              "    }\n",
              "\n",
              "    [theme=dark] .colab-df-convert {\n",
              "      background-color: #3B4455;\n",
              "      fill: #D2E3FC;\n",
              "    }\n",
              "\n",
              "    [theme=dark] .colab-df-convert:hover {\n",
              "      background-color: #434B5C;\n",
              "      box-shadow: 0px 1px 3px 1px rgba(0, 0, 0, 0.15);\n",
              "      filter: drop-shadow(0px 1px 2px rgba(0, 0, 0, 0.3));\n",
              "      fill: #FFFFFF;\n",
              "    }\n",
              "  </style>\n",
              "\n",
              "    <script>\n",
              "      const buttonEl =\n",
              "        document.querySelector('#df-6b4d4697-b5f3-44e3-a954-74f15e839143 button.colab-df-convert');\n",
              "      buttonEl.style.display =\n",
              "        google.colab.kernel.accessAllowed ? 'block' : 'none';\n",
              "\n",
              "      async function convertToInteractive(key) {\n",
              "        const element = document.querySelector('#df-6b4d4697-b5f3-44e3-a954-74f15e839143');\n",
              "        const dataTable =\n",
              "          await google.colab.kernel.invokeFunction('convertToInteractive',\n",
              "                                                    [key], {});\n",
              "        if (!dataTable) return;\n",
              "\n",
              "        const docLinkHtml = 'Like what you see? Visit the ' +\n",
              "          '<a target=\"_blank\" href=https://colab.research.google.com/notebooks/data_table.ipynb>data table notebook</a>'\n",
              "          + ' to learn more about interactive tables.';\n",
              "        element.innerHTML = '';\n",
              "        dataTable['output_type'] = 'display_data';\n",
              "        await google.colab.output.renderOutput(dataTable, element);\n",
              "        const docLink = document.createElement('div');\n",
              "        docLink.innerHTML = docLinkHtml;\n",
              "        element.appendChild(docLink);\n",
              "      }\n",
              "    </script>\n",
              "  </div>\n",
              "\n",
              "\n",
              "<div id=\"df-e1556be6-9f2a-4285-a5e1-b33405f3e740\">\n",
              "  <button class=\"colab-df-quickchart\" onclick=\"quickchart('df-e1556be6-9f2a-4285-a5e1-b33405f3e740')\"\n",
              "            title=\"Suggest charts\"\n",
              "            style=\"display:none;\">\n",
              "\n",
              "<svg xmlns=\"http://www.w3.org/2000/svg\" height=\"24px\"viewBox=\"0 0 24 24\"\n",
              "     width=\"24px\">\n",
              "    <g>\n",
              "        <path d=\"M19 3H5c-1.1 0-2 .9-2 2v14c0 1.1.9 2 2 2h14c1.1 0 2-.9 2-2V5c0-1.1-.9-2-2-2zM9 17H7v-7h2v7zm4 0h-2V7h2v10zm4 0h-2v-4h2v4z\"/>\n",
              "    </g>\n",
              "</svg>\n",
              "  </button>\n",
              "\n",
              "<style>\n",
              "  .colab-df-quickchart {\n",
              "      --bg-color: #E8F0FE;\n",
              "      --fill-color: #1967D2;\n",
              "      --hover-bg-color: #E2EBFA;\n",
              "      --hover-fill-color: #174EA6;\n",
              "      --disabled-fill-color: #AAA;\n",
              "      --disabled-bg-color: #DDD;\n",
              "  }\n",
              "\n",
              "  [theme=dark] .colab-df-quickchart {\n",
              "      --bg-color: #3B4455;\n",
              "      --fill-color: #D2E3FC;\n",
              "      --hover-bg-color: #434B5C;\n",
              "      --hover-fill-color: #FFFFFF;\n",
              "      --disabled-bg-color: #3B4455;\n",
              "      --disabled-fill-color: #666;\n",
              "  }\n",
              "\n",
              "  .colab-df-quickchart {\n",
              "    background-color: var(--bg-color);\n",
              "    border: none;\n",
              "    border-radius: 50%;\n",
              "    cursor: pointer;\n",
              "    display: none;\n",
              "    fill: var(--fill-color);\n",
              "    height: 32px;\n",
              "    padding: 0;\n",
              "    width: 32px;\n",
              "  }\n",
              "\n",
              "  .colab-df-quickchart:hover {\n",
              "    background-color: var(--hover-bg-color);\n",
              "    box-shadow: 0 1px 2px rgba(60, 64, 67, 0.3), 0 1px 3px 1px rgba(60, 64, 67, 0.15);\n",
              "    fill: var(--button-hover-fill-color);\n",
              "  }\n",
              "\n",
              "  .colab-df-quickchart-complete:disabled,\n",
              "  .colab-df-quickchart-complete:disabled:hover {\n",
              "    background-color: var(--disabled-bg-color);\n",
              "    fill: var(--disabled-fill-color);\n",
              "    box-shadow: none;\n",
              "  }\n",
              "\n",
              "  .colab-df-spinner {\n",
              "    border: 2px solid var(--fill-color);\n",
              "    border-color: transparent;\n",
              "    border-bottom-color: var(--fill-color);\n",
              "    animation:\n",
              "      spin 1s steps(1) infinite;\n",
              "  }\n",
              "\n",
              "  @keyframes spin {\n",
              "    0% {\n",
              "      border-color: transparent;\n",
              "      border-bottom-color: var(--fill-color);\n",
              "      border-left-color: var(--fill-color);\n",
              "    }\n",
              "    20% {\n",
              "      border-color: transparent;\n",
              "      border-left-color: var(--fill-color);\n",
              "      border-top-color: var(--fill-color);\n",
              "    }\n",
              "    30% {\n",
              "      border-color: transparent;\n",
              "      border-left-color: var(--fill-color);\n",
              "      border-top-color: var(--fill-color);\n",
              "      border-right-color: var(--fill-color);\n",
              "    }\n",
              "    40% {\n",
              "      border-color: transparent;\n",
              "      border-right-color: var(--fill-color);\n",
              "      border-top-color: var(--fill-color);\n",
              "    }\n",
              "    60% {\n",
              "      border-color: transparent;\n",
              "      border-right-color: var(--fill-color);\n",
              "    }\n",
              "    80% {\n",
              "      border-color: transparent;\n",
              "      border-right-color: var(--fill-color);\n",
              "      border-bottom-color: var(--fill-color);\n",
              "    }\n",
              "    90% {\n",
              "      border-color: transparent;\n",
              "      border-bottom-color: var(--fill-color);\n",
              "    }\n",
              "  }\n",
              "</style>\n",
              "\n",
              "  <script>\n",
              "    async function quickchart(key) {\n",
              "      const quickchartButtonEl =\n",
              "        document.querySelector('#' + key + ' button');\n",
              "      quickchartButtonEl.disabled = true;  // To prevent multiple clicks.\n",
              "      quickchartButtonEl.classList.add('colab-df-spinner');\n",
              "      try {\n",
              "        const charts = await google.colab.kernel.invokeFunction(\n",
              "            'suggestCharts', [key], {});\n",
              "      } catch (error) {\n",
              "        console.error('Error during call to suggestCharts:', error);\n",
              "      }\n",
              "      quickchartButtonEl.classList.remove('colab-df-spinner');\n",
              "      quickchartButtonEl.classList.add('colab-df-quickchart-complete');\n",
              "    }\n",
              "    (() => {\n",
              "      let quickchartButtonEl =\n",
              "        document.querySelector('#df-e1556be6-9f2a-4285-a5e1-b33405f3e740 button');\n",
              "      quickchartButtonEl.style.display =\n",
              "        google.colab.kernel.accessAllowed ? 'block' : 'none';\n",
              "    })();\n",
              "  </script>\n",
              "</div>\n",
              "\n",
              "    </div>\n",
              "  </div>\n"
            ],
            "application/vnd.google.colaboratory.intrinsic+json": {
              "type": "dataframe",
              "summary": "{\n  \"name\": \"df_train\",\n  \"rows\": 8,\n  \"fields\": [\n    {\n      \"column\": \"price\",\n      \"properties\": {\n        \"dtype\": \"number\",\n        \"std\": 461386.2486662981,\n        \"min\": 14105.0,\n        \"max\": 1485000.0,\n        \"num_unique_values\": 8,\n        \"samples\": [\n          499821.9407302375,\n          443500.0,\n          14105.0\n        ],\n        \"semantic_type\": \"\",\n        \"description\": \"\"\n      }\n    },\n    {\n      \"column\": \"bedrooms\",\n      \"properties\": {\n        \"dtype\": \"number\",\n        \"std\": 4985.799276126398,\n        \"min\": 0.0,\n        \"max\": 14105.0,\n        \"num_unique_values\": 7,\n        \"samples\": [\n          14105.0,\n          3.3391705069124424,\n          4.0\n        ],\n        \"semantic_type\": \"\",\n        \"description\": \"\"\n      }\n    },\n    {\n      \"column\": \"grade\",\n      \"properties\": {\n        \"dtype\": \"number\",\n        \"std\": 4984.665443081812,\n        \"min\": 1.0,\n        \"max\": 14105.0,\n        \"num_unique_values\": 7,\n        \"samples\": [\n          14105.0,\n          7.593406593406593,\n          8.0\n        ],\n        \"semantic_type\": \"\",\n        \"description\": \"\"\n      }\n    },\n    {\n      \"column\": \"living_in_m2\",\n      \"properties\": {\n        \"dtype\": \"number\",\n        \"std\": 4914.248827868579,\n        \"min\": 26.94187,\n        \"max\": 14105.0,\n        \"num_unique_values\": 8,\n        \"samples\": [\n          187.54097093484577,\n          174.65764,\n          14105.0\n        ],\n        \"semantic_type\": \"\",\n        \"description\": \"\"\n      }\n    },\n    {\n      \"column\": \"real_bathrooms\",\n      \"properties\": {\n        \"dtype\": \"number\",\n        \"std\": 4986.1944514668885,\n        \"min\": 0.0,\n        \"max\": 14105.0,\n        \"num_unique_values\": 7,\n        \"samples\": [\n          14105.0,\n          1.7074087203119461,\n          2.0\n        ],\n        \"semantic_type\": \"\",\n        \"description\": \"\"\n      }\n    },\n    {\n      \"column\": \"month\",\n      \"properties\": {\n        \"dtype\": \"number\",\n        \"std\": 4984.76455715505,\n        \"min\": 1.0,\n        \"max\": 14105.0,\n        \"num_unique_values\": 8,\n        \"samples\": [\n          6.6038284296348815,\n          6.0,\n          14105.0\n        ],\n        \"semantic_type\": \"\",\n        \"description\": \"\"\n      }\n    },\n    {\n      \"column\": \"quartile_zone\",\n      \"properties\": {\n        \"dtype\": \"number\",\n        \"std\": 4986.084983655017,\n        \"min\": 1.0,\n        \"max\": 14105.0,\n        \"num_unique_values\": 7,\n        \"samples\": [\n          14105.0,\n          2.4679900744416874,\n          3.0\n        ],\n        \"semantic_type\": \"\",\n        \"description\": \"\"\n      }\n    }\n  ]\n}"
            }
          },
          "metadata": {},
          "execution_count": 5
        }
      ]
    },
    {
      "cell_type": "markdown",
      "source": [
        "💡 Pada bagian interpretasi data deskriptif ini akan difokuskan pada deteksi outlier menggunakan metode statistik **Robust** dengan estimator **Interquartile Range (IQR)**.\n",
        "\n",
        "**IQR** adalah selisih antara kuartil ketiga (Q3) dan kuartil pertama (Q1), yang dapat digunakan untuk mengidentifikasi outlier. Data di luar batas **Lower Bound** (Q1 - 1.5 * IQR) dan **Upper Bound** (Q3 + 1.5 * IQR) dianggap sebagai outlier.\n",
        "\n",
        "Berikut interpretasi dari masing-masing kolom datanya:\n",
        "\n",
        "1. **Price (Harga)**\n",
        "   - **IQR** untuk harga adalah 625,000 - 319,000 = 306,000.\n",
        "   - Batas bawah: 319,000 - 1.5 * 306,000 = -140,000 (tidak ada harga negatif, sehingga kita hanya mempertimbangkan batas bawah sebagai 0).\n",
        "   - Batas atas: 625,000 + 1.5 * 306,000 = 1,084,000.\n",
        "   - Harga maksimal sebesar 1,485,000, jauh di atas batas atas, menunjukkan adanya outlier harga tinggi. Properti dengan harga sangat tinggi ini dapat memengaruhi model jika tidak ditangani.\n",
        "\n",
        "2. **Bedrooms (Jumlah Kamar Tidur)**\n",
        "   - **IQR** untuk kamar tidur adalah 4 - 3 = 1.\n",
        "   - Batas bawah: 3 - 1.5 * 1 = 1.5 (dibulatkan menjadi 1, karena jumlah kamar tidur tidak bisa pecahan).\n",
        "   - Batas atas: 4 + 1.5 * 1 = 5.5 (dibulatkan menjadi 5).\n",
        "   - Nilai maksimal (7) berada di atas batas atas, menunjukkan bahwa ada outlier berupa jumlah kamar tidur yang sangat tinggi dibandingkan properti lainnya.\n",
        "\n",
        "3. **Grade (Kualitas Bangunan)**\n",
        "   - **IQR** untuk grade adalah 8 - 7 = 1.\n",
        "   - Batas bawah: 7 - 1.5 * 1 = 5.5.\n",
        "   - Batas atas: 8 + 1.5 * 1 = 9.5.\n",
        "   - Grade maksimal (12) berada di atas batas atas, menunjukkan adanya outlier pada kualitas bangunan yang sangat tinggi, yang bisa menjadi properti premium dan mungkin tidak representatif untuk analisis umum.\n",
        "\n",
        "4. **Living Area (Luas Bangunan dalam m²)**\n",
        "   - **IQR** untuk luas bangunan adalah 231.33 - 130.99 = 100.34 m².\n",
        "   - Batas bawah: 130.99 - 1.5 * 100.34 = -19.52 (tidak relevan karena luas bangunan tidak bisa negatif).\n",
        "   - Batas atas: 231.33 + 1.5 * 100.34 = 382.84 m².\n",
        "   - Luas maksimal (694.91 m²) berada jauh di atas batas atas, menunjukkan adanya outlier yang sangat luas. Bangunan dengan luas sangat besar ini dapat berdampak negatif pada model jika tidak dikelola.\n",
        "\n",
        "5. **Real Bathrooms (Jumlah Kamar Mandi)**\n",
        "   - **IQR** untuk jumlah kamar mandi adalah 2 - 1 = 1.\n",
        "   - Batas bawah: 1 - 1.5 * 1 = -0.5 (dibulatkan menjadi 0).\n",
        "   - Batas atas: 2 + 1.5 * 1 = 3.5 (dibulatkan menjadi 3).\n",
        "   - Nilai maksimal (6) berada jauh di atas batas atas, menunjukkan adanya outlier berupa jumlah kamar mandi yang tinggi, yang mungkin tidak representatif untuk properti pada umumnya.\n",
        "\n",
        "6. **Month (Bulan)**\n",
        "   - **IQR** untuk bulan adalah 9 - 4 = 5.\n",
        "   - Batas bawah: 4 - 1.5 * 5 = -3.5 (dibulatkan menjadi 1, karena bulan tidak mungkin negatif).\n",
        "   - Batas atas: 9 + 1.5 * 5 = 11.5 (dibulatkan menjadi 12).\n",
        "   - Tidak ada outlier pada kolom bulan, karena data berkisar antara 1 hingga 12.\n",
        "\n",
        "7. **Quartile Zone**\n",
        "   - **IQR** untuk zona kuartil adalah 3 - 2 = 1.\n",
        "   - Batas bawah: 2 - 1.5 * 1 = 0.5 (dibulatkan menjadi 1).\n",
        "   - Batas atas: 3 + 1.5 * 1 = 4.5 (dibulatkan menjadi 4).\n",
        "   - Tidak ada outlier di kolom ini, karena nilai berada di antara 1 hingga 4.\n",
        "\n",
        "**Kesimpulan**:\n",
        "\n",
        "Dari hasil analisis, kolom-kolom **price**, **bedrooms**, **grade**, **living_in_m2**, dan **real_bathrooms** mengandung outlier yang signifikan. Outlier pada kolom-kolom ini bisa mempengaruhi model regresi dengan menyebabkan bias pada parameter model. Penggunaan estimator **IQR** dalam mendeteksi dan menghapus outlier dapat membantu meningkatkan akurasi model dengan mengurangi efek dari data yang terlalu ekstrem, sehingga model bisa lebih fokus pada pola data yang umum dan representatif."
      ],
      "metadata": {
        "id": "Vv-HPTSXF9RC"
      }
    },
    {
      "cell_type": "markdown",
      "source": [
        "## Memetakan Outlier dengan Box-Plot\n"
      ],
      "metadata": {
        "id": "rXxVUcTh__QO"
      }
    },
    {
      "cell_type": "markdown",
      "source": [
        "Box-Plot dari hasil pengukuran dispersi dataset pada tahap `Data Preprocessing`.\n",
        "\n",
        "Baris kode Box-Plot ini seharusnya ditempatkan setelah baris kode `df_train.describe()`."
      ],
      "metadata": {
        "id": "4zo0JdNor_G3"
      }
    },
    {
      "cell_type": "code",
      "source": [
        "#boxplot untuk mengetahui outlier\n",
        "\n",
        "import matplotlib.pyplot as plt\n",
        "import seaborn as sns\n",
        "\n",
        "# membuat box plot untuk semua nilai kolom numerik dari df_train\n",
        "numerical_features = df_train.select_dtypes(include=np.number).columns  # memunculkan kolom mana saja yang numerik\n",
        "\n",
        "plt.figure(figsize=(15, 10))\n",
        "for i, feature in enumerate(numerical_features, 1):  # iterasi\n",
        "    plt.subplot(len(numerical_features) // 3 + 1, 3, i)\n",
        "    sns.boxplot(x=df_train[feature])  # mengambil datadari df_train\n",
        "    plt.title(f'Box plot untuk {feature}')\n",
        "plt.tight_layout()\n",
        "plt.show()"
      ],
      "metadata": {
        "colab": {
          "base_uri": "https://localhost:8080/",
          "height": 780
        },
        "id": "DOe74Y6_0n_v",
        "outputId": "70c4d70c-cff5-4013-d176-87afa5ddab3a"
      },
      "execution_count": null,
      "outputs": [
        {
          "output_type": "display_data",
          "data": {
            "text/plain": [
              "<Figure size 1500x1000 with 7 Axes>"
            ],
            "image/png": "[encoded data removed]"
          },
          "metadata": {}
        }
      ]
    },
    {
      "cell_type": "markdown",
      "source": [
        "Box plot pada gambar ini menunjukkan persebaran data dan keberadaan outlier untuk masing-masing variabel. Berikut adalah interpretasi outlier pada tiap variabel berdasarkan box plot:\n",
        "\n",
        "1. **Price (Harga)**\n",
        "   - Terdapat banyak outlier pada bagian harga yang tinggi (kanan), yaitu data yang berada jauh di atas batas atas (upper whisker). Ini mengindikasikan properti dengan harga yang jauh lebih tinggi dari nilai normal yang dapat mempengaruhi analisis.\n",
        "\n",
        "2. **Bedrooms (Jumlah Kamar Tidur)**\n",
        "   - Outlier terlihat pada jumlah kamar tidur di atas nilai 5. Mayoritas properti memiliki antara 3 dan 4 kamar tidur, tetapi beberapa memiliki lebih banyak, hingga 7 kamar tidur, yang tergolong outlier.\n",
        "\n",
        "3. **Grade (Kualitas Bangunan)**\n",
        "   - Terdapat beberapa outlier untuk grade di atas nilai 9. Mayoritas nilai grade berada pada 7-8, namun terdapat beberapa properti dengan nilai grade hingga 12, yang menandakan kualitas sangat tinggi yang jarang ditemukan.\n",
        "\n",
        "4. **Living Area in m² (Luas Bangunan dalam m²)**\n",
        "   - Banyak outlier di bagian kanan, menunjukkan beberapa properti dengan luas bangunan yang sangat besar, lebih dari 400 m², sementara kebanyakan properti memiliki luas di sekitar 100–300 m².\n",
        "\n",
        "5. **Real Bathrooms (Jumlah Kamar Mandi)**\n",
        "   - Terdapat beberapa outlier pada jumlah kamar mandi di atas nilai 3, dengan jumlah maksimal 6 kamar mandi. Kebanyakan properti memiliki 1 atau 2 kamar mandi, sementara properti dengan jumlah kamar mandi tinggi bisa dianggap sebagai outlier.\n",
        "\n",
        "6. **Month (Bulan)**\n",
        "   - Tidak ada outlier yang terlihat untuk kolom month, menunjukkan bahwa data bulan terdistribusi dengan baik dalam rentang 1 hingga 12.\n",
        "\n",
        "7. **Quartile Zone**\n",
        "   - Tidak ada outlier yang terlihat untuk kolom quartile_zone, menandakan persebaran data dalam zona kuartil cukup merata.\n",
        "\n",
        "**Kesimpulan**:\n",
        "\n",
        "Variabel **price**, **bedrooms**, **grade**, **living_in_m2**, dan **real_bathrooms** memiliki outlier yang signifikan. Dalam konteks analisis data atau pemodelan, outlier ini perlu diperhatikan karena dapat mempengaruhi hasil dan interpretasi model. Kita mungkin mempertimbangkan untuk menangani outlier ini dengan metode seperti trimming, winsorizing, atau transformasi data jika diperlukan."
      ],
      "metadata": {
        "id": "CstW--cTHfEs"
      }
    },
    {
      "cell_type": "markdown",
      "source": [
        "##Menangani Outlier"
      ],
      "metadata": {
        "id": "9-qsVSwLF9Y4"
      }
    },
    {
      "cell_type": "markdown",
      "source": [
        "Penanganan outlier dengan metode IQR dilakukan pada tahap `Data Preprocessing` setelah baris kode Box-Plot.\n",
        "\n",
        "Karena berdasarkan analisis sebelumnya ditemukan bahwa fitur bedrooms, grade, living_in_m2 dan real_bathrooms memiliki outlier yang signifikan maka hanya fitur-fitur ini saja yang harus diproses ulang menggunakan IQR."
      ],
      "metadata": {
        "id": "e0Z4qp7FsqvO"
      }
    },
    {
      "cell_type": "code",
      "source": [
        "#Penanganan Outlier dengan IQR\n",
        "numerical_features = ['bedrooms', 'grade', 'living_in_m2', 'real_bathrooms']\n",
        "\n",
        "# Loop pada setiap fitur numerik\n",
        "data_no_outliers = df_train.copy()  # Membuat salinan data awal\n",
        "\n",
        "for feature in numerical_features:\n",
        "    Q1 = data_no_outliers[feature].quantile(0.25)\n",
        "    Q3 = data_no_outliers[feature].quantile(0.75)\n",
        "    IQR = Q3 - Q1\n",
        "    lower_bound = Q1 - 1.5 * IQR\n",
        "    upper_bound = Q3 + 1.5 * IQR\n",
        "    data_no_outliers = data_no_outliers[(data_no_outliers[feature] >= lower_bound) & (data_no_outliers[feature] <= upper_bound)]\n",
        "\n",
        "# Cek jumlah data setelah outlier dihapus\n",
        "print(f\"Jumlah data sebelum menghapus outlier: {len(df_train)}\") # Changed 'data' to 'df_train'\n",
        "print(f\"Jumlah data setelah menghapus outlier: {len(data_no_outliers)}\")"
      ],
      "metadata": {
        "colab": {
          "base_uri": "https://localhost:8080/"
        },
        "id": "MaBtwXqF4GOG",
        "outputId": "8972c9aa-8275-4e90-95b7-72dcdfd84a00"
      },
      "execution_count": null,
      "outputs": [
        {
          "output_type": "stream",
          "name": "stdout",
          "text": [
            "Jumlah data sebelum menghapus outlier: 14105\n",
            "Jumlah data setelah menghapus outlier: 12659\n"
          ]
        }
      ]
    },
    {
      "cell_type": "markdown",
      "source": [
        "## Data Preprocessing"
      ],
      "metadata": {
        "id": "AM-U7aKXkE5W"
      }
    },
    {
      "cell_type": "markdown",
      "source": [
        "Prapemrosesan data adalah salah satu langkah terpenting dalam Machine Learning. Hal ini meliputi:\n",
        "\n",
        "*   Mengonversi data non-numerik (misalnya, nilai Benar/Salah) menjadi nilai numerik.\n",
        "*   Menskalakan fitur numerik sehingga semuanya berada pada skala yang sama, yang meningkatkan kinerja model.\n"
      ],
      "metadata": {
        "id": "K1NOetJ1InOb"
      }
    },
    {
      "cell_type": "code",
      "source": [
        "def preprocess_data(df):\n",
        "    # boolean menjadi int\n",
        "    df['has_basement'] = df['has_basement'].astype(int)\n",
        "    df['renovated'] = df['renovated'].astype(int)\n",
        "    df['nice_view'] = df['nice_view'].astype(int)\n",
        "    df['perfect_condition'] = df['perfect_condition'].astype(int)\n",
        "    df['has_lavatory'] = df['has_lavatory'].astype(int)\n",
        "    df['single_floor'] = df['single_floor'].astype(int)\n",
        "\n",
        "    # Select the features to use for prediction (independent variables)\n",
        "    features = ['bedrooms', 'grade', 'has_basement', 'living_in_m2',\n",
        "                'renovated', 'nice_view', 'perfect_condition', 'real_bathrooms',\n",
        "                'has_lavatory', 'single_floor', 'month', 'quartile_zone']\n",
        "\n",
        "    X = df[features]  # Independent variables\n",
        "    y = df['price']  # Target variable (price)\n",
        "\n",
        "    # Normalize the numerical features\n",
        "    scaler = StandardScaler()\n",
        "    X[['living_in_m2', 'real_bathrooms']] = scaler.fit_transform(X[['living_in_m2', 'real_bathrooms']])\n",
        "\n",
        "    return X, y\n",
        "\n",
        "# Preprocess the training and test data\n",
        "X_train, y_train = preprocess_data(df_train)\n",
        "X_test, y_test = preprocess_data(df_test)"
      ],
      "metadata": {
        "colab": {
          "base_uri": "https://localhost:8080/"
        },
        "id": "ec32cl-8kWQw",
        "outputId": "3a4daebf-2315-4cc7-cef7-a698d8bcb6eb"
      },
      "execution_count": null,
      "outputs": [
        {
          "output_type": "stream",
          "name": "stderr",
          "text": [
            "<ipython-input-8-e02aecaeab51>:20: SettingWithCopyWarning: \n",
            "A value is trying to be set on a copy of a slice from a DataFrame.\n",
            "Try using .loc[row_indexer,col_indexer] = value instead\n",
            "\n",
            "See the caveats in the documentation: https://pandas.pydata.org/pandas-docs/stable/user_guide/indexing.html#returning-a-view-versus-a-copy\n",
            "  X[['living_in_m2', 'real_bathrooms']] = scaler.fit_transform(X[['living_in_m2', 'real_bathrooms']])\n",
            "<ipython-input-8-e02aecaeab51>:20: SettingWithCopyWarning: \n",
            "A value is trying to be set on a copy of a slice from a DataFrame.\n",
            "Try using .loc[row_indexer,col_indexer] = value instead\n",
            "\n",
            "See the caveats in the documentation: https://pandas.pydata.org/pandas-docs/stable/user_guide/indexing.html#returning-a-view-versus-a-copy\n",
            "  X[['living_in_m2', 'real_bathrooms']] = scaler.fit_transform(X[['living_in_m2', 'real_bathrooms']])\n"
          ]
        }
      ]
    },
    {
      "cell_type": "markdown",
      "source": [
        "Warning `SettingWithCopyWarning` terjadi karena kita mencoba mengubah bagian dari DataFrame yang mungkin merupakan \"view\" (referensi ke data asli) alih-alih \"copy\" (salinan terpisah). Ini bisa menyebabkan perubahan yang tidak diinginkan.\n",
        "\n",
        "\n",
        "\n",
        "Pada kasus di atas, peringatan muncul ketika melakukan scaling dengan kode berikut:\n",
        "\n",
        "\n",
        "\n",
        "`X[['living_in_m2', 'real_bathrooms']] = scaler.fit_transform(X[['living_in_m2', 'real_bathrooms']])`\n",
        "\n",
        "\n",
        "Untuk mengatasinya gunakan:\n",
        "Gunakan `.loc` agar pandas tahu bahwa kita ingin mengubah data secara langsung:\n",
        "\n",
        "```\n",
        "X.loc[:, ['living_in_m2', 'real_bathrooms']] = scaler.fit_transform(X[['living_in_m2', 'real_bathrooms']])\n",
        "\n",
        "```\n",
        "Catatan:\n",
        "\n",
        "`X.loc[:]` adalah cara untuk mengakses atau memilih data dari sebuah *DataFrame* di Pandas berdasarkan label baris dan kolom. Berikut adalah penjelasan komponennya:\n",
        "\n",
        "1. **`X`**: Ini adalah nama *DataFrame* yang ingin diakses.\n",
        "2. **`loc[]`**: Ini adalah metode yang digunakan untuk memilih data berdasarkan label atau nama baris dan kolom. Berbeda dengan `iloc[]` yang berdasarkan indeks posisi, `loc[]` memilih data berdasarkan label atau indeks yang spesifik.\n",
        "3. **`:`**: Dalam konteks ini, tanda titik dua (`:`) berarti \"pilih semua baris\". Ini adalah cara untuk memilih keseluruhan baris dalam *DataFrame*.\n",
        "   \n",
        "Secara lengkap, perintah ini:\n",
        "- **`X.loc[:, ['living_in_m2', 'real_bathrooms']]`** berarti pilih semua baris (dengan `:`) dan kolom `['living_in_m2', 'real_bathrooms']`.\n",
        "- Kemudian, **`scaler.fit_transform(X[['living_in_m2', 'real_bathrooms']])`** menerapkan *scaling* atau normalisasi pada dua kolom tersebut, lalu hasilnya ditimpa kembali ke *DataFrame* X pada kolom yang sama.\n",
        "\n",
        "Dengan kata lain, kode ini memilih semua baris pada kolom `living_in_m2` dan `real_bathrooms`, menerapkan transformasi skala, dan menyimpannya kembali ke kolom tersebut."
      ],
      "metadata": {
        "id": "Muy530uzk-O3"
      }
    },
    {
      "cell_type": "code",
      "source": [
        "def preprocess_data(df):\n",
        "    # boolean menjadi int\n",
        "    df['has_basement'] = df['has_basement'].astype(int)\n",
        "    df['renovated'] = df['renovated'].astype(int)\n",
        "    df['nice_view'] = df['nice_view'].astype(int)\n",
        "    df['perfect_condition'] = df['perfect_condition'].astype(int)\n",
        "    df['has_lavatory'] = df['has_lavatory'].astype(int)\n",
        "    df['single_floor'] = df['single_floor'].astype(int)\n",
        "\n",
        "\n",
        "    features = ['bedrooms', 'grade', 'has_basement', 'living_in_m2',\n",
        "                'renovated', 'nice_view', 'perfect_condition', 'real_bathrooms',\n",
        "                'has_lavatory', 'single_floor', 'month', 'quartile_zone']\n",
        "\n",
        "    X = df[features]  # Independent variables\n",
        "    y = df['price']  # Target variable (price)\n",
        "\n",
        "    # normalisasi fitur numerik\n",
        "    scaler = StandardScaler()\n",
        "    X.loc[:, ['living_in_m2', 'real_bathrooms']] = scaler.fit_transform(X[['living_in_m2', 'real_bathrooms']])\n",
        "\n",
        "    return X, y\n",
        "\n",
        "# Preprocess the training and test data\n",
        "X_train, y_train = preprocess_data(df_train)\n",
        "X_test, y_test = preprocess_data(df_test)"
      ],
      "metadata": {
        "colab": {
          "base_uri": "https://localhost:8080/"
        },
        "id": "e3hxF16Ili0Q",
        "outputId": "6c7dad86-7869-4546-fb4a-07faf0e0797c"
      },
      "execution_count": null,
      "outputs": [
        {
          "output_type": "stream",
          "name": "stderr",
          "text": [
            "<ipython-input-9-7f790ac2a608>:20: FutureWarning: Setting an item of incompatible dtype is deprecated and will raise in a future error of pandas. Value '[-1.03185188  1.88542027  0.4267842  ... -1.03185188 -1.03185188\n",
            "  0.4267842 ]' has dtype incompatible with int64, please explicitly cast to a compatible dtype first.\n",
            "  X.loc[:, ['living_in_m2', 'real_bathrooms']] = scaler.fit_transform(X[['living_in_m2', 'real_bathrooms']])\n",
            "<ipython-input-9-7f790ac2a608>:20: FutureWarning: Setting an item of incompatible dtype is deprecated and will raise in a future error of pandas. Value '[-1.03852263  1.83109567 -1.03852263 ... -1.03852263  1.83109567\n",
            "  0.39628652]' has dtype incompatible with int64, please explicitly cast to a compatible dtype first.\n",
            "  X.loc[:, ['living_in_m2', 'real_bathrooms']] = scaler.fit_transform(X[['living_in_m2', 'real_bathrooms']])\n"
          ]
        }
      ]
    },
    {
      "cell_type": "markdown",
      "source": [
        "Kode Perbaikan Error:"
      ],
      "metadata": {
        "id": "vOPsMMIsuLVq"
      }
    },
    {
      "cell_type": "code",
      "source": [
        "import numpy as np\n",
        "from sklearn.preprocessing import StandardScaler\n",
        "\n",
        "pd.options.mode.copy_on_write = True\n",
        "\n",
        "def preprocess_data(df):\n",
        "    #konversi tipe data boolean menjadi integer\n",
        "    df['has_basement'] = df['has_basement'].astype(int)\n",
        "    df['renovated'] = df['renovated'].astype(int)\n",
        "    df['nice_view'] = df['nice_view'].astype(int)\n",
        "    df['perfect_condition'] = df['perfect_condition'].astype(int)\n",
        "    df['has_lavatory'] = df['has_lavatory'].astype(int)\n",
        "    df['single_floor'] = df['single_floor'].astype(int)\n",
        "\n",
        "\n",
        "    features = ['bedrooms', 'grade', 'has_basement', 'living_in_m2',\n",
        "                'renovated', 'nice_view', 'perfect_condition', 'real_bathrooms',\n",
        "                'has_lavatory', 'single_floor', 'month', 'quartile_zone']\n",
        "\n",
        "    X = df[features]\n",
        "    y = df['price']\n",
        "\n",
        "    # konversi kolom yang relevan dengan int64 sebelum penyekalaan\n",
        "    X.loc[:, 'living_in_m2'] = X['living_in_m2'].astype(np.int64)\n",
        "    X.loc[:, 'real_bathrooms'] = X['real_bathrooms'].astype(np.int64)\n",
        "\n",
        "\n",
        "     # normalisasi fitur numerik\n",
        "    scaler = StandardScaler()\n",
        "    X[['living_in_m2','real_bathrooms']] = scaler.fit_transform(X[['living_in_m2','real_bathrooms']])\n",
        "\n",
        "    return X, y\n",
        "\n",
        "# olah training dan test data\n",
        "X_train, y_train = preprocess_data(df_train)\n",
        "X_test, y_test = preprocess_data(df_test)\n"
      ],
      "metadata": {
        "id": "57R8aWzn-mud"
      },
      "execution_count": null,
      "outputs": []
    },
    {
      "cell_type": "markdown",
      "source": [
        "##Building the Model"
      ],
      "metadata": {
        "id": "GrnxDpqYmT6b"
      }
    },
    {
      "cell_type": "code",
      "source": [
        "# Create a linear regression model\n",
        "model = LinearRegression()\n",
        "\n",
        "# Train the model using the training data\n",
        "model.fit(X_train, y_train)\n"
      ],
      "metadata": {
        "colab": {
          "base_uri": "https://localhost:8080/",
          "height": 80
        },
        "id": "BISLKJBElWo8",
        "outputId": "e63a5f3e-cee5-4970-a6cf-bb18be37f775"
      },
      "execution_count": null,
      "outputs": [
        {
          "output_type": "execute_result",
          "data": {
            "text/plain": [
              "LinearRegression()"
            ],
            "text/html": [
              "<style>#sk-container-id-1 {\n",
              "  /* Definition of color scheme common for light and dark mode */\n",
              "  --sklearn-color-text: black;\n",
              "  --sklearn-color-line: gray;\n",
              "  /* Definition of color scheme for unfitted estimators */\n",
              "  --sklearn-color-unfitted-level-0: #fff5e6;\n",
              "  --sklearn-color-unfitted-level-1: #f6e4d2;\n",
              "  --sklearn-color-unfitted-level-2: #ffe0b3;\n",
              "  --sklearn-color-unfitted-level-3: chocolate;\n",
              "  /* Definition of color scheme for fitted estimators */\n",
              "  --sklearn-color-fitted-level-0: #f0f8ff;\n",
              "  --sklearn-color-fitted-level-1: #d4ebff;\n",
              "  --sklearn-color-fitted-level-2: #b3dbfd;\n",
              "  --sklearn-color-fitted-level-3: cornflowerblue;\n",
              "\n",
              "  /* Specific color for light theme */\n",
              "  --sklearn-color-text-on-default-background: var(--sg-text-color, var(--theme-code-foreground, var(--jp-content-font-color1, black)));\n",
              "  --sklearn-color-background: var(--sg-background-color, var(--theme-background, var(--jp-layout-color0, white)));\n",
              "  --sklearn-color-border-box: var(--sg-text-color, var(--theme-code-foreground, var(--jp-content-font-color1, black)));\n",
              "  --sklearn-color-icon: #696969;\n",
              "\n",
              "  @media (prefers-color-scheme: dark) {\n",
              "    /* Redefinition of color scheme for dark theme */\n",
              "    --sklearn-color-text-on-default-background: var(--sg-text-color, var(--theme-code-foreground, var(--jp-content-font-color1, white)));\n",
              "    --sklearn-color-background: var(--sg-background-color, var(--theme-background, var(--jp-layout-color0, #111)));\n",
              "    --sklearn-color-border-box: var(--sg-text-color, var(--theme-code-foreground, var(--jp-content-font-color1, white)));\n",
              "    --sklearn-color-icon: #878787;\n",
              "  }\n",
              "}\n",
              "\n",
              "#sk-container-id-1 {\n",
              "  color: var(--sklearn-color-text);\n",
              "}\n",
              "\n",
              "#sk-container-id-1 pre {\n",
              "  padding: 0;\n",
              "}\n",
              "\n",
              "#sk-container-id-1 input.sk-hidden--visually {\n",
              "  border: 0;\n",
              "  clip: rect(1px 1px 1px 1px);\n",
              "  clip: rect(1px, 1px, 1px, 1px);\n",
              "  height: 1px;\n",
              "  margin: -1px;\n",
              "  overflow: hidden;\n",
              "  padding: 0;\n",
              "  position: absolute;\n",
              "  width: 1px;\n",
              "}\n",
              "\n",
              "#sk-container-id-1 div.sk-dashed-wrapped {\n",
              "  border: 1px dashed var(--sklearn-color-line);\n",
              "  margin: 0 0.4em 0.5em 0.4em;\n",
              "  box-sizing: border-box;\n",
              "  padding-bottom: 0.4em;\n",
              "  background-color: var(--sklearn-color-background);\n",
              "}\n",
              "\n",
              "#sk-container-id-1 div.sk-container {\n",
              "  /* jupyter's `normalize.less` sets `[hidden] { display: none; }`\n",
              "     but bootstrap.min.css set `[hidden] { display: none !important; }`\n",
              "     so we also need the `!important` here to be able to override the\n",
              "     default hidden behavior on the sphinx rendered scikit-learn.org.\n",
              "     See: https://github.com/scikit-learn/scikit-learn/issues/21755 */\n",
              "  display: inline-block !important;\n",
              "  position: relative;\n",
              "}\n",
              "\n",
              "#sk-container-id-1 div.sk-text-repr-fallback {\n",
              "  display: none;\n",
              "}\n",
              "\n",
              "div.sk-parallel-item,\n",
              "div.sk-serial,\n",
              "div.sk-item {\n",
              "  /* draw centered vertical line to link estimators */\n",
              "  background-image: linear-gradient(var(--sklearn-color-text-on-default-background), var(--sklearn-color-text-on-default-background));\n",
              "  background-size: 2px 100%;\n",
              "  background-repeat: no-repeat;\n",
              "  background-position: center center;\n",
              "}\n",
              "\n",
              "/* Parallel-specific style estimator block */\n",
              "\n",
              "#sk-container-id-1 div.sk-parallel-item::after {\n",
              "  content: \"\";\n",
              "  width: 100%;\n",
              "  border-bottom: 2px solid var(--sklearn-color-text-on-default-background);\n",
              "  flex-grow: 1;\n",
              "}\n",
              "\n",
              "#sk-container-id-1 div.sk-parallel {\n",
              "  display: flex;\n",
              "  align-items: stretch;\n",
              "  justify-content: center;\n",
              "  background-color: var(--sklearn-color-background);\n",
              "  position: relative;\n",
              "}\n",
              "\n",
              "#sk-container-id-1 div.sk-parallel-item {\n",
              "  display: flex;\n",
              "  flex-direction: column;\n",
              "}\n",
              "\n",
              "#sk-container-id-1 div.sk-parallel-item:first-child::after {\n",
              "  align-self: flex-end;\n",
              "  width: 50%;\n",
              "}\n",
              "\n",
              "#sk-container-id-1 div.sk-parallel-item:last-child::after {\n",
              "  align-self: flex-start;\n",
              "  width: 50%;\n",
              "}\n",
              "\n",
              "#sk-container-id-1 div.sk-parallel-item:only-child::after {\n",
              "  width: 0;\n",
              "}\n",
              "\n",
              "/* Serial-specific style estimator block */\n",
              "\n",
              "#sk-container-id-1 div.sk-serial {\n",
              "  display: flex;\n",
              "  flex-direction: column;\n",
              "  align-items: center;\n",
              "  background-color: var(--sklearn-color-background);\n",
              "  padding-right: 1em;\n",
              "  padding-left: 1em;\n",
              "}\n",
              "\n",
              "\n",
              "/* Toggleable style: style used for estimator/Pipeline/ColumnTransformer box that is\n",
              "clickable and can be expanded/collapsed.\n",
              "- Pipeline and ColumnTransformer use this feature and define the default style\n",
              "- Estimators will overwrite some part of the style using the `sk-estimator` class\n",
              "*/\n",
              "\n",
              "/* Pipeline and ColumnTransformer style (default) */\n",
              "\n",
              "#sk-container-id-1 div.sk-toggleable {\n",
              "  /* Default theme specific background. It is overwritten whether we have a\n",
              "  specific estimator or a Pipeline/ColumnTransformer */\n",
              "  background-color: var(--sklearn-color-background);\n",
              "}\n",
              "\n",
              "/* Toggleable label */\n",
              "#sk-container-id-1 label.sk-toggleable__label {\n",
              "  cursor: pointer;\n",
              "  display: block;\n",
              "  width: 100%;\n",
              "  margin-bottom: 0;\n",
              "  padding: 0.5em;\n",
              "  box-sizing: border-box;\n",
              "  text-align: center;\n",
              "}\n",
              "\n",
              "#sk-container-id-1 label.sk-toggleable__label-arrow:before {\n",
              "  /* Arrow on the left of the label */\n",
              "  content: \"▸\";\n",
              "  float: left;\n",
              "  margin-right: 0.25em;\n",
              "  color: var(--sklearn-color-icon);\n",
              "}\n",
              "\n",
              "#sk-container-id-1 label.sk-toggleable__label-arrow:hover:before {\n",
              "  color: var(--sklearn-color-text);\n",
              "}\n",
              "\n",
              "/* Toggleable content - dropdown */\n",
              "\n",
              "#sk-container-id-1 div.sk-toggleable__content {\n",
              "  max-height: 0;\n",
              "  max-width: 0;\n",
              "  overflow: hidden;\n",
              "  text-align: left;\n",
              "  /* unfitted */\n",
              "  background-color: var(--sklearn-color-unfitted-level-0);\n",
              "}\n",
              "\n",
              "#sk-container-id-1 div.sk-toggleable__content.fitted {\n",
              "  /* fitted */\n",
              "  background-color: var(--sklearn-color-fitted-level-0);\n",
              "}\n",
              "\n",
              "#sk-container-id-1 div.sk-toggleable__content pre {\n",
              "  margin: 0.2em;\n",
              "  border-radius: 0.25em;\n",
              "  color: var(--sklearn-color-text);\n",
              "  /* unfitted */\n",
              "  background-color: var(--sklearn-color-unfitted-level-0);\n",
              "}\n",
              "\n",
              "#sk-container-id-1 div.sk-toggleable__content.fitted pre {\n",
              "  /* unfitted */\n",
              "  background-color: var(--sklearn-color-fitted-level-0);\n",
              "}\n",
              "\n",
              "#sk-container-id-1 input.sk-toggleable__control:checked~div.sk-toggleable__content {\n",
              "  /* Expand drop-down */\n",
              "  max-height: 200px;\n",
              "  max-width: 100%;\n",
              "  overflow: auto;\n",
              "}\n",
              "\n",
              "#sk-container-id-1 input.sk-toggleable__control:checked~label.sk-toggleable__label-arrow:before {\n",
              "  content: \"▾\";\n",
              "}\n",
              "\n",
              "/* Pipeline/ColumnTransformer-specific style */\n",
              "\n",
              "#sk-container-id-1 div.sk-label input.sk-toggleable__control:checked~label.sk-toggleable__label {\n",
              "  color: var(--sklearn-color-text);\n",
              "  background-color: var(--sklearn-color-unfitted-level-2);\n",
              "}\n",
              "\n",
              "#sk-container-id-1 div.sk-label.fitted input.sk-toggleable__control:checked~label.sk-toggleable__label {\n",
              "  background-color: var(--sklearn-color-fitted-level-2);\n",
              "}\n",
              "\n",
              "/* Estimator-specific style */\n",
              "\n",
              "/* Colorize estimator box */\n",
              "#sk-container-id-1 div.sk-estimator input.sk-toggleable__control:checked~label.sk-toggleable__label {\n",
              "  /* unfitted */\n",
              "  background-color: var(--sklearn-color-unfitted-level-2);\n",
              "}\n",
              "\n",
              "#sk-container-id-1 div.sk-estimator.fitted input.sk-toggleable__control:checked~label.sk-toggleable__label {\n",
              "  /* fitted */\n",
              "  background-color: var(--sklearn-color-fitted-level-2);\n",
              "}\n",
              "\n",
              "#sk-container-id-1 div.sk-label label.sk-toggleable__label,\n",
              "#sk-container-id-1 div.sk-label label {\n",
              "  /* The background is the default theme color */\n",
              "  color: var(--sklearn-color-text-on-default-background);\n",
              "}\n",
              "\n",
              "/* On hover, darken the color of the background */\n",
              "#sk-container-id-1 div.sk-label:hover label.sk-toggleable__label {\n",
              "  color: var(--sklearn-color-text);\n",
              "  background-color: var(--sklearn-color-unfitted-level-2);\n",
              "}\n",
              "\n",
              "/* Label box, darken color on hover, fitted */\n",
              "#sk-container-id-1 div.sk-label.fitted:hover label.sk-toggleable__label.fitted {\n",
              "  color: var(--sklearn-color-text);\n",
              "  background-color: var(--sklearn-color-fitted-level-2);\n",
              "}\n",
              "\n",
              "/* Estimator label */\n",
              "\n",
              "#sk-container-id-1 div.sk-label label {\n",
              "  font-family: monospace;\n",
              "  font-weight: bold;\n",
              "  display: inline-block;\n",
              "  line-height: 1.2em;\n",
              "}\n",
              "\n",
              "#sk-container-id-1 div.sk-label-container {\n",
              "  text-align: center;\n",
              "}\n",
              "\n",
              "/* Estimator-specific */\n",
              "#sk-container-id-1 div.sk-estimator {\n",
              "  font-family: monospace;\n",
              "  border: 1px dotted var(--sklearn-color-border-box);\n",
              "  border-radius: 0.25em;\n",
              "  box-sizing: border-box;\n",
              "  margin-bottom: 0.5em;\n",
              "  /* unfitted */\n",
              "  background-color: var(--sklearn-color-unfitted-level-0);\n",
              "}\n",
              "\n",
              "#sk-container-id-1 div.sk-estimator.fitted {\n",
              "  /* fitted */\n",
              "  background-color: var(--sklearn-color-fitted-level-0);\n",
              "}\n",
              "\n",
              "/* on hover */\n",
              "#sk-container-id-1 div.sk-estimator:hover {\n",
              "  /* unfitted */\n",
              "  background-color: var(--sklearn-color-unfitted-level-2);\n",
              "}\n",
              "\n",
              "#sk-container-id-1 div.sk-estimator.fitted:hover {\n",
              "  /* fitted */\n",
              "  background-color: var(--sklearn-color-fitted-level-2);\n",
              "}\n",
              "\n",
              "/* Specification for estimator info (e.g. \"i\" and \"?\") */\n",
              "\n",
              "/* Common style for \"i\" and \"?\" */\n",
              "\n",
              ".sk-estimator-doc-link,\n",
              "a:link.sk-estimator-doc-link,\n",
              "a:visited.sk-estimator-doc-link {\n",
              "  float: right;\n",
              "  font-size: smaller;\n",
              "  line-height: 1em;\n",
              "  font-family: monospace;\n",
              "  background-color: var(--sklearn-color-background);\n",
              "  border-radius: 1em;\n",
              "  height: 1em;\n",
              "  width: 1em;\n",
              "  text-decoration: none !important;\n",
              "  margin-left: 1ex;\n",
              "  /* unfitted */\n",
              "  border: var(--sklearn-color-unfitted-level-1) 1pt solid;\n",
              "  color: var(--sklearn-color-unfitted-level-1);\n",
              "}\n",
              "\n",
              ".sk-estimator-doc-link.fitted,\n",
              "a:link.sk-estimator-doc-link.fitted,\n",
              "a:visited.sk-estimator-doc-link.fitted {\n",
              "  /* fitted */\n",
              "  border: var(--sklearn-color-fitted-level-1) 1pt solid;\n",
              "  color: var(--sklearn-color-fitted-level-1);\n",
              "}\n",
              "\n",
              "/* On hover */\n",
              "div.sk-estimator:hover .sk-estimator-doc-link:hover,\n",
              ".sk-estimator-doc-link:hover,\n",
              "div.sk-label-container:hover .sk-estimator-doc-link:hover,\n",
              ".sk-estimator-doc-link:hover {\n",
              "  /* unfitted */\n",
              "  background-color: var(--sklearn-color-unfitted-level-3);\n",
              "  color: var(--sklearn-color-background);\n",
              "  text-decoration: none;\n",
              "}\n",
              "\n",
              "div.sk-estimator.fitted:hover .sk-estimator-doc-link.fitted:hover,\n",
              ".sk-estimator-doc-link.fitted:hover,\n",
              "div.sk-label-container:hover .sk-estimator-doc-link.fitted:hover,\n",
              ".sk-estimator-doc-link.fitted:hover {\n",
              "  /* fitted */\n",
              "  background-color: var(--sklearn-color-fitted-level-3);\n",
              "  color: var(--sklearn-color-background);\n",
              "  text-decoration: none;\n",
              "}\n",
              "\n",
              "/* Span, style for the box shown on hovering the info icon */\n",
              ".sk-estimator-doc-link span {\n",
              "  display: none;\n",
              "  z-index: 9999;\n",
              "  position: relative;\n",
              "  font-weight: normal;\n",
              "  right: .2ex;\n",
              "  padding: .5ex;\n",
              "  margin: .5ex;\n",
              "  width: min-content;\n",
              "  min-width: 20ex;\n",
              "  max-width: 50ex;\n",
              "  color: var(--sklearn-color-text);\n",
              "  box-shadow: 2pt 2pt 4pt #999;\n",
              "  /* unfitted */\n",
              "  background: var(--sklearn-color-unfitted-level-0);\n",
              "  border: .5pt solid var(--sklearn-color-unfitted-level-3);\n",
              "}\n",
              "\n",
              ".sk-estimator-doc-link.fitted span {\n",
              "  /* fitted */\n",
              "  background: var(--sklearn-color-fitted-level-0);\n",
              "  border: var(--sklearn-color-fitted-level-3);\n",
              "}\n",
              "\n",
              ".sk-estimator-doc-link:hover span {\n",
              "  display: block;\n",
              "}\n",
              "\n",
              "/* \"?\"-specific style due to the `<a>` HTML tag */\n",
              "\n",
              "#sk-container-id-1 a.estimator_doc_link {\n",
              "  float: right;\n",
              "  font-size: 1rem;\n",
              "  line-height: 1em;\n",
              "  font-family: monospace;\n",
              "  background-color: var(--sklearn-color-background);\n",
              "  border-radius: 1rem;\n",
              "  height: 1rem;\n",
              "  width: 1rem;\n",
              "  text-decoration: none;\n",
              "  /* unfitted */\n",
              "  color: var(--sklearn-color-unfitted-level-1);\n",
              "  border: var(--sklearn-color-unfitted-level-1) 1pt solid;\n",
              "}\n",
              "\n",
              "#sk-container-id-1 a.estimator_doc_link.fitted {\n",
              "  /* fitted */\n",
              "  border: var(--sklearn-color-fitted-level-1) 1pt solid;\n",
              "  color: var(--sklearn-color-fitted-level-1);\n",
              "}\n",
              "\n",
              "/* On hover */\n",
              "#sk-container-id-1 a.estimator_doc_link:hover {\n",
              "  /* unfitted */\n",
              "  background-color: var(--sklearn-color-unfitted-level-3);\n",
              "  color: var(--sklearn-color-background);\n",
              "  text-decoration: none;\n",
              "}\n",
              "\n",
              "#sk-container-id-1 a.estimator_doc_link.fitted:hover {\n",
              "  /* fitted */\n",
              "  background-color: var(--sklearn-color-fitted-level-3);\n",
              "}\n",
              "</style><div id=\"sk-container-id-1\" class=\"sk-top-container\"><div class=\"sk-text-repr-fallback\"><pre>LinearRegression()</pre><b>In a Jupyter environment, please rerun this cell to show the HTML representation or trust the notebook. <br />On GitHub, the HTML representation is unable to render, please try loading this page with nbviewer.org.</b></div><div class=\"sk-container\" hidden><div class=\"sk-item\"><div class=\"sk-estimator fitted sk-toggleable\"><input class=\"sk-toggleable__control sk-hidden--visually\" id=\"sk-estimator-id-1\" type=\"checkbox\" checked><label for=\"sk-estimator-id-1\" class=\"sk-toggleable__label fitted sk-toggleable__label-arrow fitted\">&nbsp;&nbsp;LinearRegression<a class=\"sk-estimator-doc-link fitted\" rel=\"noreferrer\" target=\"_blank\" href=\"https://scikit-learn.org/1.5/modules/generated/sklearn.linear_model.LinearRegression.html\">?<span>Documentation for LinearRegression</span></a><span class=\"sk-estimator-doc-link fitted\">i<span>Fitted</span></span></label><div class=\"sk-toggleable__content fitted\"><pre>LinearRegression()</pre></div> </div></div></div></div>"
            ]
          },
          "metadata": {},
          "execution_count": 11
        }
      ]
    },
    {
      "cell_type": "markdown",
      "source": [
        "##Making Predictions"
      ],
      "metadata": {
        "id": "D0K2hTkZmZj4"
      }
    },
    {
      "cell_type": "code",
      "source": [
        "# Make predictions on the test data\n",
        "y_pred = model.predict(X_test)\n"
      ],
      "metadata": {
        "id": "cKdynEgFmWcK"
      },
      "execution_count": null,
      "outputs": []
    },
    {
      "cell_type": "markdown",
      "source": [
        "##Evaluating Model\n",
        "\n",
        "Mengevaluasi model menggunakan empat kali pengecekan yaitu dengan model fit score, R2 Score, Mean Absolute Error dan Mean Square Error."
      ],
      "metadata": {
        "id": "ixrem65u_XNX"
      }
    },
    {
      "cell_type": "code",
      "source": [
        "modelku = model.fit(X_train, y_train)\n",
        "modelku.score(X_test, y_test)"
      ],
      "metadata": {
        "colab": {
          "base_uri": "https://localhost:8080/"
        },
        "id": "RCTgq_kXbGOV",
        "outputId": "b0e3da38-c587-4a22-b1eb-ce631af4971b"
      },
      "execution_count": null,
      "outputs": [
        {
          "output_type": "execute_result",
          "data": {
            "text/plain": [
              "0.7754263499631886"
            ]
          },
          "metadata": {},
          "execution_count": 13
        }
      ]
    },
    {
      "cell_type": "code",
      "source": [
        "from sklearn.metrics import r2_score\n",
        "\n",
        "r2 = r2_score(y_test, y_pred)\n",
        "print(f\"R-squared (R2) Score: {r2}\")"
      ],
      "metadata": {
        "colab": {
          "base_uri": "https://localhost:8080/"
        },
        "id": "hXcuRQmRmiLt",
        "outputId": "4ee99df7-9c86-4f21-94dd-03ec5f54fc1a"
      },
      "execution_count": null,
      "outputs": [
        {
          "output_type": "stream",
          "name": "stdout",
          "text": [
            "R-squared (R2) Score: 0.7754263499631886\n"
          ]
        }
      ]
    },
    {
      "cell_type": "code",
      "source": [
        "# Mean Absolute Error (MAE)\n",
        "mae = mean_absolute_error(y_test, y_pred)\n",
        "print(f\"Mean Absolute Error (MAE): {mae}\")\n",
        "\n",
        "mse = mean_squared_error(y_test, y_pred)\n",
        "print(f\"Mean Squared Error (MSE): {mse}\")"
      ],
      "metadata": {
        "colab": {
          "base_uri": "https://localhost:8080/"
        },
        "id": "lqbacmYy6Dc3",
        "outputId": "9e9defbb-e5b3-4dc1-cede-0314fc3c0b98"
      },
      "execution_count": null,
      "outputs": [
        {
          "output_type": "stream",
          "name": "stdout",
          "text": [
            "Mean Absolute Error (MAE): 0.1749596295023338\n",
            "Mean Squared Error (MSE): 0.05052745091811713\n"
          ]
        }
      ]
    },
    {
      "cell_type": "markdown",
      "source": [
        "Akurasi kinerja model berdasarkan model fit score adalah 77%, R-squared score adalah 77%, MAE adalah 17% dan MSE adalah 5%. Biasanya MSE > MAE, namun pada model kali ini MSE < MAE."
      ],
      "metadata": {
        "id": "xVEWpQNJJNu5"
      }
    },
    {
      "cell_type": "markdown",
      "source": [
        "## Visualizing the Results"
      ],
      "metadata": {
        "id": "xG0U_-O6mmzB"
      }
    },
    {
      "cell_type": "code",
      "source": [
        "# Plot actual vs predicted prices\n",
        "plt.scatter(y_test, y_pred, color='blue', alpha=0.5, label='Predicted Prices')  # Set color and transparency\n",
        "plt.plot([y_test.min(), y_test.max()], [y_test.min(), y_test.max()], 'r--', lw=2, label='Perfect Fit')  # Add diagonal line\n",
        "\n",
        "plt.xlabel('Actual Prices')\n",
        "plt.ylabel('Predicted Prices')\n",
        "plt.title('Actual vs Predicted Prices')\n",
        "plt.legend()\n",
        "plt.show()\n"
      ],
      "metadata": {
        "colab": {
          "base_uri": "https://localhost:8080/",
          "height": 472
        },
        "id": "K6DTWeQ2moAn",
        "outputId": "60ae7cac-f409-44d7-bc65-a1ea55e0ac21"
      },
      "execution_count": null,
      "outputs": [
        {
          "output_type": "display_data",
          "data": {
            "text/plain": [
              "<Figure size 640x480 with 1 Axes>"
            ],
            "image/png": "[encoded data removed]"
          },
          "metadata": {}
        }
      ]
    },
    {
      "cell_type": "markdown",
      "source": [
        "#**Interpretasi Model Kedua**"
      ],
      "metadata": {
        "id": "KYoijcKjvINy"
      }
    },
    {
      "cell_type": "markdown",
      "source": [
        "-  Model regresi linier berganda ini menunjukkan kinerja yang baik dalam memprediksi harga setelah praproses data dengan menambahkan reduksi data outlier menggunakan estimator yang lebih robust yaitu IQR dan dilanjutkan dengan Standar Scaler, di mana jumlah data kemudian berkurang dari 14.105 menjadi 12.659 setelah penghapusan 1.446 data yang diidentifikasi sebagai outlier. Penghapusan outlier ini memungkinkan model untuk lebih fokus pada pola umum dalam data, mengurangi potensi bias akibat data ekstrem, dan menghasilkan prediksi yang lebih stabil dan akurat. Nilai R² sebesar 0,7754 menunjukkan bahwa model mampu menjelaskan sekitar 77,54% dari variasi harga aktual, artinya sebagian besar variabilitas harga dapat dijelaskan oleh variabel-variabel prediktor dalam model. Hal ini menunjukkan keandalan model dalam memprediksi harga secara akurat.\n",
        "\n",
        "- Nilai Mean Absolute Error (MAE) sebesar 0,1750 mengindikasikan bahwa rata-rata kesalahan prediksi model hanya sebesar 0,175 unit dari harga aktual, menunjukkan tingkat kesalahan yang rendah dan menggambarkan akurasi model dalam konteks dunia nyata. Sementara itu, Mean Squared Error (MSE) sebesar 0,0505 menunjukkan bahwa rata-rata kesalahan kuadrat juga kecil, yang berarti tidak ada kesalahan besar yang menonjol dan model cukup konsisten dalam memberikan prediksi mendekati nilai aktual.\n",
        "\n",
        "- Visualisasi scatter plot antara harga aktual (sumbu X) dan harga prediksi (sumbu Y) memperlihatkan rentang nilai dari 11,5 hingga 14,5 pada kedua sumbu, dengan sebagian besar titik data berkumpul di sekitar garis merah putus-putus, yang menunjukkan kesesuaian sempurna antara prediksi dan harga aktual. Kedekatan titik-titik prediksi (titik biru) dengan garis ini mengindikasikan akurasi model yang tinggi, terutama pada rentang antara 12 hingga 14, di mana titik-titik biru berkumpul lebih padat. Sebagian kecil titik yang menyimpang dari garis kesesuaian di ujung bawah (sekitar 11,5) dan ujung atas (sekitar 14,5) mungkin menunjukkan tantangan dalam memprediksi harga pada batas ekstrem data.\n",
        "\n",
        "- Menariknya, MSE lebih kecil dari MAE, yang dapat dijelaskan oleh distribusi kesalahan yang kecil dan simetris, serta ketiadaan kesalahan besar yang dominan, sehingga pengkuadratan kesalahan tidak banyak memengaruhi nilai rata-rata. Dalam konteks ini, MSE yang lebih kecil dari MAE menunjukkan distribusi kesalahan yang seimbang, tanpa banyak kesalahan ekstrem, yang menandakan konsistensi dan keakuratan prediksi model pada sebagian besar data. Secara keseluruhan, nilai R², MAE, MSE, dan visualisasi menunjukkan bahwa model regresi linier berganda ini memiliki performa yang baik dalam memprediksi harga, meskipun ada potensi untuk peningkatan akurasi lebih lanjut pada rentang harga ekstrem."
      ],
      "metadata": {
        "id": "tkoQov3KwbdO"
      }
    }
  ]
}